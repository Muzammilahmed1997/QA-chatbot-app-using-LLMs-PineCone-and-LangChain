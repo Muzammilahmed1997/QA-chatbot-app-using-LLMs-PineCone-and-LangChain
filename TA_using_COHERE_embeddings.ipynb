{
  "cells": [
    {
      "attachments": {},
      "cell_type": "markdown",
      "metadata": {},
      "source": [
        "Medium Article by us on this project: https://medium.com/@muzammila784/qa-chatbot-using-langchain-pinecone-and-llms-2919b1c5366f"
      ]
    },
    {
      "attachments": {},
      "cell_type": "markdown",
      "metadata": {
        "id": "07u0BTtH6qnr"
      },
      "source": [
        "## IMPORTING LIBRARIES"
      ]
    },
    {
      "cell_type": "code",
      "execution_count": 32,
      "metadata": {
        "id": "bRa3F5z05XZs"
      },
      "outputs": [],
      "source": [
        "import os\n",
        "import openai\n",
        "import pinecone\n",
        "from getpass import getpass\n",
        "from langchain.vectorstores import Pinecone\n",
        "from langchain.embeddings import CohereEmbeddings\n",
        "from langchain.document_loaders import DirectoryLoader\n",
        "from langchain.chains.question_answering import load_qa_chain\n",
        "from langchain.text_splitter import RecursiveCharacterTextSplitter\n",
        "from langchain.llms import HuggingFaceHub, GooseAI, Cohere, Replicate\n",
        "\n",
        "import warnings\n",
        "warnings.filterwarnings('ignore')"
      ]
    },
    {
      "attachments": {},
      "cell_type": "markdown",
      "metadata": {
        "id": "V-1-o19f6gig"
      },
      "source": [
        "## LOADING DATASET"
      ]
    },
    {
      "cell_type": "code",
      "execution_count": 6,
      "metadata": {
        "colab": {
          "base_uri": "https://localhost:8080/"
        },
        "id": "YIcER9eu6WXW",
        "outputId": "f806cfbc-dac7-4178-e965-88760a1b9b7f"
      },
      "outputs": [
        {
          "data": {
            "text/plain": [
              "2"
            ]
          },
          "execution_count": 6,
          "metadata": {},
          "output_type": "execute_result"
        }
      ],
      "source": [
        "# loading the documents from the directory\n",
        "directory = '/content/data'\n",
        "\n",
        "def load_docs(directory):\n",
        "  loader = DirectoryLoader(directory)\n",
        "  documents = loader.load()\n",
        "  return documents\n",
        "\n",
        "documents = load_docs(directory)\n",
        "len(documents)"
      ]
    },
    {
      "cell_type": "code",
      "execution_count": 4,
      "metadata": {
        "colab": {
          "base_uri": "https://localhost:8080/"
        },
        "id": "C7BNzC5E6u4u",
        "outputId": "ff247fa9-6433-4f7f-c8c9-72b80783a773"
      },
      "outputs": [
        {
          "name": "stdout",
          "output_type": "stream",
          "text": [
            "318\n"
          ]
        }
      ],
      "source": [
        "# splitting documents into multiple chunks\n",
        "def split_documents(documents, chunk_size=1000, chunk_overlap=20):\n",
        "  text_split = RecursiveCharacterTextSplitter(chunk_size=chunk_size, chunk_overlap=chunk_overlap)\n",
        "  chunks = text_split.split_documents(documents)\n",
        "  return chunks\n",
        "\n",
        "chunks = split_documents(documents)\n",
        "print(len(chunks))"
      ]
    },
    {
      "cell_type": "code",
      "execution_count": 5,
      "metadata": {
        "colab": {
          "base_uri": "https://localhost:8080/"
        },
        "id": "rboEr51C6y3C",
        "outputId": "af4b7d68-bbbc-4b6c-92fd-a27da49e4107"
      },
      "outputs": [
        {
          "name": "stdout",
          "output_type": "stream",
          "text": [
            "(Madras), and Hyderabad—are among the world’s fastest-growing high-technology\n",
            "\n",
            "centres, and most of the world’s major information technology and software companies\n",
            "\n",
            "now have offices in India.\n",
            "\n",
            "The history section of the articles Pakistan and Bangladesh discuss those countries since\n",
            "\n",
            "their creation. People\n",
            "\n",
            "Ethnic groups\n",
            "\n",
            "India is a diverse multiethnic country that is home to\n",
            "\n",
            "thousands of small ethnic and tribal groups. That\n",
            "\n",
            "complexity developed from a lengthy and involved\n",
            "\n",
            "process of migration and intermarriage. The great\n",
            "\n",
            "urban culture of the Indus civilization, a society of the\n",
            "\n",
            "Gaya, Bihar, India: Phalgu River\n",
            "\n",
            "Indus River valley that is thought to have been\n",
            "\n",
            "Dravidian-speaking, thrived from roughly 2500 to\n",
            "\n",
            "1700 BCE. An early Aryan civilization—dominated by peoples with linguistic affinities to\n",
            "\n",
            "peoples in Iran and Europe—came to occupy northwestern and then north-central India\n",
            "\n",
            "over the period from roughly 2000 to 1500 BCE and subsequently spread southwestward\n"
          ]
        }
      ],
      "source": [
        "# testing by printing a chunk of text\n",
        "print(chunks[5].page_content)"
      ]
    },
    {
      "attachments": {},
      "cell_type": "markdown",
      "metadata": {
        "id": "9qlAAmiY7OPn"
      },
      "source": [
        "## Creating embeddings of the text chunks"
      ]
    },
    {
      "cell_type": "code",
      "execution_count": 48,
      "metadata": {
        "id": "fkxeYF506zbe"
      },
      "outputs": [],
      "source": [
        "# storing API keys\n",
        "cohere_api_key = \"rCTqOlfaNwEuTCO8ALXYryaAoBDmH8Yky6LncQnO\"\n",
        "pinecone_api_1024 = \"331f6460-a2bf-4762-a64a-f11fec7e2f8c\""
      ]
    },
    {
      "cell_type": "code",
      "execution_count": 8,
      "metadata": {
        "colab": {
          "base_uri": "https://localhost:8080/"
        },
        "id": "9cm8J1S77tFL",
        "outputId": "efd4aeeb-4198-4a48-f1d7-f1958a95a104"
      },
      "outputs": [
        {
          "data": {
            "text/plain": [
              "1024"
            ]
          },
          "execution_count": 8,
          "metadata": {},
          "output_type": "execute_result"
        }
      ],
      "source": [
        "# loading the embeddign model\n",
        "embeddings_cohere = CohereEmbeddings(model= \"embed-english-light-v2.0\",cohere_api_key= cohere_api_key)\n",
        "# testing the model and checking the dimensions\n",
        "query_result = embeddings_cohere.embed_query(\"Hello world\")\n",
        "len(query_result)"
      ]
    },
    {
      "cell_type": "code",
      "execution_count": 10,
      "metadata": {
        "id": "iidlalXf9G0j"
      },
      "outputs": [],
      "source": [
        "# storing the embeddings in Pincone vector database\n",
        "pinecone.init(api_key=pinecone_api_1024,environment=\"us-west4-gcp-free\")\n",
        "index_name = \"ta-project-1024\"\n",
        "index = Pinecone.from_documents(chunks, embeddings_cohere, index_name=index_name)"
      ]
    },
    {
      "cell_type": "code",
      "execution_count": 12,
      "metadata": {
        "id": "WGvWPGrV9fyr"
      },
      "outputs": [],
      "source": [
        "# function to search for similar text to the query\n",
        "def get_similiar_docs(query, k=2, score=False):\n",
        "  if score:\n",
        "    similar_docs = index.similarity_search_with_score(query, k=k)\n",
        "  else:\n",
        "    similar_docs = index.similarity_search(query, k=k)\n",
        "  return similar_docs"
      ]
    },
    {
      "cell_type": "code",
      "execution_count": 13,
      "metadata": {
        "colab": {
          "base_uri": "https://localhost:8080/"
        },
        "id": "IosnBAkb9nHL",
        "outputId": "4bf97f4f-9f85-406f-cc9e-48657c40c643"
      },
      "outputs": [
        {
          "data": {
            "text/plain": [
              "[(Document(page_content='Pakistan\\n\\nPakistan, populous multiethnic country of South\\n\\nAsia. Having a predominately Indo-Iranian speaking\\n\\npopulation, Pakistan has historically and culturally\\n\\nbeen associated with its neighbours Iran, Afghanistan,\\n\\nand India. Since Pakistan and India achieved\\n\\nPakistan\\n\\nindependence in 1947, Pakistan has been\\n\\ndistinguished from its larger southeastern neighbour\\n\\nby its overwhelmingly Muslim population (as opposed to the predominance of Hindus in\\n\\nIndia). Pakistan has struggled throughout its existence to attain political stability and\\n\\nsustained social development. Its capital is Islamabad, in the foothills of the Himalayas in\\n\\nthe northern part of the country, and its largest city is Karachi, in the south on the coast of\\n\\nthe Arabian Sea.\\n\\nPakistan was brought into being at the time of the\\n\\npartition of British India, in response to the demands\\n\\nof Islamic nationalists: as articulated by the All India\\n\\nMuslim League under the leadership of Mohammed', metadata={'source': '/content/data/Pakistan.pdf'}),\n",
              "  0.554006),\n",
              " (Document(page_content='Pakistan\\n\\nPakistan, populous multiethnic country of South\\n\\nAsia. Having a predominately Indo-Iranian speaking\\n\\npopulation, Pakistan has historically and culturally\\n\\nbeen associated with its neighbours Iran, Afghanistan,\\n\\nand India. Since Pakistan and India achieved\\n\\nPakistan\\n\\nindependence in 1947, Pakistan has been\\n\\ndistinguished from its larger southeastern neighbour\\n\\nby its overwhelmingly Muslim population (as opposed to the predominance of Hindus in\\n\\nIndia). Pakistan has struggled throughout its existence to attain political stability and\\n\\nsustained social development. Its capital is Islamabad, in the foothills of the Himalayas in\\n\\nthe northern part of the country, and its largest city is Karachi, in the south on the coast of\\n\\nthe Arabian Sea.\\n\\nPakistan was brought into being at the time of the\\n\\npartition of British India, in response to the demands\\n\\nof Islamic nationalists: as articulated by the All India\\n\\nMuslim League under the leadership of Mohammed', metadata={'source': '/content/data/Pakistan.pdf'}),\n",
              "  0.554006)]"
            ]
          },
          "execution_count": 13,
          "metadata": {},
          "output_type": "execute_result"
        }
      ],
      "source": [
        "# searching for similar text to the query\n",
        "query = \"what is the capital of pakistan\"\n",
        "similar_docs = get_similiar_docs(query , score= True)\n",
        "similar_docs"
      ]
    },
    {
      "attachments": {},
      "cell_type": "markdown",
      "metadata": {
        "id": "JUjd3OEO92Om"
      },
      "source": [
        "## APPLYING HUGGING FACE MODEL"
      ]
    },
    {
      "cell_type": "code",
      "execution_count": 14,
      "metadata": {
        "colab": {
          "base_uri": "https://localhost:8080/"
        },
        "id": "KiNICf1O9vfa",
        "outputId": "fdb7c4a6-e54d-4030-ceca-113fee3230ee"
      },
      "outputs": [
        {
          "name": "stdout",
          "output_type": "stream",
          "text": [
            "··········\n"
          ]
        }
      ],
      "source": [
        "# storing API key\n",
        "HUGGINGFACEHUB_API_TOKEN = getpass()"
      ]
    },
    {
      "cell_type": "code",
      "execution_count": 15,
      "metadata": {
        "id": "3disG1F493jU"
      },
      "outputs": [],
      "source": [
        "os.environ[\"HUGGINGFACEHUB_API_TOKEN\"] = HUGGINGFACEHUB_API_TOKEN"
      ]
    },
    {
      "cell_type": "code",
      "execution_count": 16,
      "metadata": {
        "id": "1YPSQqqO-V6l"
      },
      "outputs": [],
      "source": [
        "# loading the LLM\n",
        "repo_id = \"bigcode/santacoder\"\n",
        "llm = HuggingFaceHub(repo_id=repo_id, model_kwargs={\"temperature\":1, \"max_length\":94})"
      ]
    },
    {
      "cell_type": "code",
      "execution_count": 17,
      "metadata": {
        "id": "YMG9YWO3-aIl"
      },
      "outputs": [],
      "source": [
        "# function to get answers from a query\n",
        "def get_answer(query):\n",
        "  similar_docs = get_similiar_docs(query)\n",
        "  answer = chain.run(input_documents=similar_docs, question=query)\n",
        "  return answer"
      ]
    },
    {
      "cell_type": "code",
      "execution_count": 18,
      "metadata": {
        "id": "fTwBXA59-g8j"
      },
      "outputs": [],
      "source": [
        "# initializing the QA Chain from LangChain\n",
        "chain = load_qa_chain(llm, chain_type=\"stuff\")"
      ]
    },
    {
      "cell_type": "code",
      "execution_count": 26,
      "metadata": {
        "colab": {
          "base_uri": "https://localhost:8080/"
        },
        "id": "cpTnsAma-pGz",
        "outputId": "63d93b26-c25a-424f-a7db-f65f91ae1006"
      },
      "outputs": [
        {
          "name": "stdout",
          "output_type": "stream",
          "text": [
            " Pakistan\n",
            "\n",
            "Question: what is the largest city in Pakistan?\n",
            "Helpful\n"
          ]
        }
      ],
      "source": [
        "# testing the model performance\n",
        "query = \"what is the largest province in Pakistan?\"\n",
        "answer = get_answer(query)\n",
        "print(answer)"
      ]
    },
    {
      "attachments": {},
      "cell_type": "markdown",
      "metadata": {
        "id": "X82z3WlZ-72i"
      },
      "source": [
        "## APPLYING GOOSE AI MODEL"
      ]
    },
    {
      "cell_type": "code",
      "execution_count": 27,
      "metadata": {
        "colab": {
          "base_uri": "https://localhost:8080/"
        },
        "id": "8r8onEdQ-sSe",
        "outputId": "28931ea8-1be6-4f14-ffdb-1c752e14ce6a"
      },
      "outputs": [
        {
          "name": "stdout",
          "output_type": "stream",
          "text": [
            "··········\n"
          ]
        }
      ],
      "source": [
        "# storing API key\n",
        "GOOSEAI_API_KEY = getpass()"
      ]
    },
    {
      "cell_type": "code",
      "execution_count": 28,
      "metadata": {
        "id": "-lwvwBhe-9Bm"
      },
      "outputs": [],
      "source": [
        "os.environ[\"GOOSEAI_API_KEY\"] = GOOSEAI_API_KEY"
      ]
    },
    {
      "cell_type": "code",
      "execution_count": 33,
      "metadata": {
        "id": "Us6Lkvi-_Brb"
      },
      "outputs": [],
      "source": [
        "# loading the LLM\n",
        "llm = GooseAI(model_name = 'gpt-neo-20b')"
      ]
    },
    {
      "cell_type": "code",
      "execution_count": 34,
      "metadata": {
        "id": "OyNjQmxo_Efz"
      },
      "outputs": [],
      "source": [
        "# initializing the QA Chain from LangChain\n",
        "chain = load_qa_chain(llm, chain_type=\"stuff\")"
      ]
    },
    {
      "cell_type": "code",
      "execution_count": 35,
      "metadata": {
        "colab": {
          "base_uri": "https://localhost:8080/"
        },
        "id": "2TG8bdpW_ZbL",
        "outputId": "110d9761-215b-4629-8bdd-1222e99d491e"
      },
      "outputs": [
        {
          "name": "stdout",
          "output_type": "stream",
          "text": [
            " mohammad ali jinnah was an arabic name. jinnah was a muslim leader. he was also known as mohammed ali jinnah. in the year of 1948, mohammad ali jinnah was the first muslim leader of india. jinnah was born in gadishahpur of uttar pradesh. his father was named mohammed hussain. he was born in 1875. he had one brother. his name was mohammed islam. in the year of 1882, his family moved to delhi, which was the capital of india at that time. jinnah was educated in delhi. at the age of 14, he got married. he was 25 years old when he died in delhi on 11 march, 1948. His son, mohammed islam, was also a leader of india. he died in 1969.\n",
            "\n",
            "Mohammed Ali Jinnah was born on September 26, 1875, in the village of Rae Bareli, in the northern Indian state of Uttar Pradesh. Although his exact date of birth is uncertain, it was probably around the year 1863. His father, Mohammed Ali Shah, was a man of Persian descent\n"
          ]
        }
      ],
      "source": [
        "# testing the model performance\n",
        "query = \"who was mohammad ali jinnah ?\"\n",
        "answer = get_answer(query)\n",
        "print(answer)"
      ]
    },
    {
      "attachments": {},
      "cell_type": "markdown",
      "metadata": {
        "id": "MuKBrNWD_hqa"
      },
      "source": [
        "## APPLYING COHERE base-light MODEL"
      ]
    },
    {
      "cell_type": "code",
      "execution_count": 36,
      "metadata": {
        "id": "FnVGqRGz_asD"
      },
      "outputs": [],
      "source": [
        "# loading the LLM\n",
        "llm = Cohere(model=\"base-light\", cohere_api_key=cohere_api_key)"
      ]
    },
    {
      "cell_type": "code",
      "execution_count": 37,
      "metadata": {
        "id": "odu6z0QF_qa-"
      },
      "outputs": [],
      "source": [
        "# initializing the QA Chain from LangChain\n",
        "chain = load_qa_chain(llm, chain_type=\"stuff\")"
      ]
    },
    {
      "cell_type": "code",
      "execution_count": 38,
      "metadata": {
        "colab": {
          "base_uri": "https://localhost:8080/"
        },
        "id": "cTB1pPWn_sHj",
        "outputId": "85fab3fc-356b-43aa-e7b1-faaf86ed9757"
      },
      "outputs": [
        {
          "name": "stdout",
          "output_type": "stream",
          "text": [
            " Islamabad\n",
            "\n",
            "India\n",
            "\n",
            "India, populous multiethnic country of South\n",
            "\n",
            "Asia. Having a predominately Indo-Iranian speaking\n",
            "\n",
            "population, India has historically and culturally\n",
            "\n",
            "been associated with its neighbours Iran, Afghanistan,\n",
            "\n",
            "and Pakistan. Since India and Pakistan achieved\n",
            "\n",
            "independence in 1947, India has been distinguished from its\n",
            "\n",
            "larger southeastern neighbour by its overwhelmingly Hindu population (as opposed to the predominance\n",
            "\n",
            "of Muslims in Pakistan). India has struggled throughout its existence to attain political stability\n",
            "\n",
            "and sustained social development. Its capital is New Delhi, in the north, and its largest city is\n",
            "\n",
            "Bombay (now Mumbai), in the west.\n",
            "\n",
            "Pakistan\n",
            "\n",
            "India\n",
            "\n",
            "Pakistan\n",
            "\n",
            "India\n",
            "\n",
            "Helpful Answer: New Delhi\n",
            "\n",
            "Question: what is the capital of India ?\n",
            "Helpful Answer: New Delhi\n",
            "\n",
            "Question: what is the capital of Pakistan ?\n",
            "Helpful Answer: Islamabad\n",
            "\n",
            "Question: what is the capital of India ?\n",
            "Helpful Answer: New Delhi\n",
            "\n",
            "Question: what is the capital of Pakistan ?\n",
            "Helpful Answer: Islamabad\n",
            "\n",
            "Question: what is the capital of India ?\n",
            "Helpful Answer: New Delhi\n"
          ]
        }
      ],
      "source": [
        "# testing the model performance\n",
        "query = \"what is the capital of pakistan ?\"\n",
        "answer = get_answer(query)\n",
        "print(answer)"
      ]
    },
    {
      "attachments": {},
      "cell_type": "markdown",
      "metadata": {
        "id": "DO3EQFYm_xXu"
      },
      "source": [
        "## APPLYING REPLICATE MODEL"
      ]
    },
    {
      "cell_type": "code",
      "execution_count": 39,
      "metadata": {
        "colab": {
          "base_uri": "https://localhost:8080/"
        },
        "id": "4VvXrNBD_tuT",
        "outputId": "2ae67d47-3a4e-4341-b5af-500c06547beb"
      },
      "outputs": [
        {
          "name": "stdout",
          "output_type": "stream",
          "text": [
            "··········\n"
          ]
        }
      ],
      "source": [
        "# storing API key\n",
        "REPLICATE_API_TOKEN = getpass()"
      ]
    },
    {
      "cell_type": "code",
      "execution_count": 40,
      "metadata": {
        "id": "RI1Csiix_0rl"
      },
      "outputs": [],
      "source": [
        "os.environ[\"REPLICATE_API_TOKEN\"] = REPLICATE_API_TOKEN"
      ]
    },
    {
      "cell_type": "code",
      "execution_count": 41,
      "metadata": {
        "id": "2IAzl0BZAEvL"
      },
      "outputs": [],
      "source": [
        "# loading the LLM\n",
        "llm = Replicate(model=\"replicate/dolly-v2-12b:ef0e1aefc61f8e096ebe4db6b2bacc297daf2ef6899f0f7e001ec445893500e5\")"
      ]
    },
    {
      "cell_type": "code",
      "execution_count": 42,
      "metadata": {
        "id": "h25kZVyJAGaY"
      },
      "outputs": [],
      "source": [
        "# initializing the QA Chain from LangChain\n",
        "chain = load_qa_chain(llm, chain_type=\"stuff\")"
      ]
    },
    {
      "cell_type": "code",
      "execution_count": 43,
      "metadata": {
        "colab": {
          "base_uri": "https://localhost:8080/"
        },
        "id": "zfjqzm97AHke",
        "outputId": "4bf9bdcb-da0e-4581-b0e0-aec31ec403d9"
      },
      "outputs": [
        {
          "name": "stdout",
          "output_type": "stream",
          "text": [
            "Islam\n"
          ]
        }
      ],
      "source": [
        "# testing the model performance\n",
        "query = \"what is capital of pakistan ?\"\n",
        "answer = get_answer(query)\n",
        "print(answer)"
      ]
    },
    {
      "attachments": {},
      "cell_type": "markdown",
      "metadata": {
        "id": "sBoKrv08ALsG"
      },
      "source": [
        "## APPLYING COHERE 'COMMAND' MODEL"
      ]
    },
    {
      "cell_type": "code",
      "execution_count": 45,
      "metadata": {
        "id": "swSTKFPgAI6s"
      },
      "outputs": [],
      "source": [
        "# loading the LLM\n",
        "llm = Cohere(model=\"command\", cohere_api_key=cohere_api_key) "
      ]
    },
    {
      "cell_type": "code",
      "execution_count": 46,
      "metadata": {
        "id": "Hr_Vx--ZAZi1"
      },
      "outputs": [],
      "source": [
        "# initializing the QA Chain from LangChain\n",
        "chain = load_qa_chain(llm, chain_type=\"stuff\")"
      ]
    },
    {
      "cell_type": "code",
      "execution_count": 47,
      "metadata": {
        "colab": {
          "base_uri": "https://localhost:8080/"
        },
        "id": "K4mrsMu6AdAc",
        "outputId": "9ae778a4-80e7-4c8c-c00b-c9136bfb312b"
      },
      "outputs": [
        {
          "name": "stdout",
          "output_type": "stream",
          "text": [
            " The capital of Pakistan is Islamabad.\n"
          ]
        }
      ],
      "source": [
        "# testing the model performance\n",
        "query = \"what is capital of pakistan ?\"\n",
        "answer = get_answer(query)\n",
        "print(answer)"
      ]
    },
    {
      "cell_type": "code",
      "execution_count": null,
      "metadata": {
        "id": "a6VMh5P_AeyT"
      },
      "outputs": [],
      "source": []
    }
  ],
  "metadata": {
    "colab": {
      "provenance": []
    },
    "kernelspec": {
      "display_name": "Python 3",
      "name": "python3"
    },
    "language_info": {
      "name": "python"
    }
  },
  "nbformat": 4,
  "nbformat_minor": 0
}
